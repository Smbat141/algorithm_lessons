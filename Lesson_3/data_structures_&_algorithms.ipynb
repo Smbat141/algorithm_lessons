{
 "cells": [
  {
   "cell_type": "markdown",
   "metadata": {
    "slideshow": {
     "slide_type": "slide"
    }
   },
   "source": [
    "## Data Structures & Algorithms №3  \n",
    "#### Basic Data Structures\n",
    "<br/>\n",
    "<img src=\"image_1.png\" width=\"900\" style=\"margin:auto\"/>"
   ]
  },
  {
   "cell_type": "markdown",
   "metadata": {
    "slideshow": {
     "slide_type": "slide"
    }
   },
   "source": [
    "## 1. Arrays (Nor Norker)"
   ]
  },
  {
   "cell_type": "markdown",
   "metadata": {
    "slideshow": {
     "slide_type": "subslide"
    }
   },
   "source": [
    "#### How memory works"
   ]
  },
  {
   "cell_type": "markdown",
   "metadata": {
    "slideshow": {
     "slide_type": "fragment"
    }
   },
   "source": [
    "<img src=\"image_2.png\" width=\"800\" style=\"margin:auto\"/>"
   ]
  },
  {
   "cell_type": "markdown",
   "metadata": {
    "slideshow": {
     "slide_type": "subslide"
    }
   },
   "source": [
    "<img src=\"image_3.svg\" width=\"1000\" style=\"margin:auto\"/>"
   ]
  },
  {
   "cell_type": "markdown",
   "metadata": {
    "slideshow": {
     "slide_type": "subslide"
    }
   },
   "source": [
    "<img src=\"image_4.svg\" width=\"1000\" style=\"margin:auto\"/>"
   ]
  },
  {
   "cell_type": "markdown",
   "metadata": {
    "slideshow": {
     "slide_type": "subslide"
    }
   },
   "source": [
    "<img src=\"image_5.png\" width=\"450\" style=\"margin:auto\"/>"
   ]
  },
  {
   "cell_type": "markdown",
   "metadata": {
    "slideshow": {
     "slide_type": "fragment"
    }
   },
   "source": [
    "<img src=\"image_6.png\" width=\"450\" style=\"margin:auto\"/>"
   ]
  },
  {
   "cell_type": "markdown",
   "metadata": {
    "slideshow": {
     "slide_type": "fragment"
    }
   },
   "source": [
    "<img src=\"image_7.png\" width=\"450\" style=\"margin:auto\"/>"
   ]
  },
  {
   "cell_type": "markdown",
   "metadata": {
    "slideshow": {
     "slide_type": "subslide"
    }
   },
   "source": [
    "<img src=\"diagram_1-Page-1.svg\" width=\"800\" style=\"margin:auto\"/>"
   ]
  },
  {
   "cell_type": "markdown",
   "metadata": {
    "slideshow": {
     "slide_type": "fragment"
    }
   },
   "source": [
    "<img src=\"diagram_1-Page-2.svg\" width=\"800\" style=\"margin:auto\"/>"
   ]
  },
  {
   "cell_type": "markdown",
   "metadata": {
    "slideshow": {
     "slide_type": "fragment"
    }
   },
   "source": [
    "<img src=\"diagram_1-Page-3.svg\" width=\"800\" style=\"margin:auto\"/>"
   ]
  },
  {
   "cell_type": "markdown",
   "metadata": {
    "slideshow": {
     "slide_type": "slide"
    }
   },
   "source": [
    "## 2. Linked Lists"
   ]
  },
  {
   "cell_type": "markdown",
   "metadata": {
    "slideshow": {
     "slide_type": "fragment"
    }
   },
   "source": [
    "<img src=\"image_9.png\" width=\"1000\" style=\"margin:auto\"/>"
   ]
  },
  {
   "cell_type": "markdown",
   "metadata": {
    "slideshow": {
     "slide_type": "subslide"
    }
   },
   "source": [
    "<img src=\"image_10.png\" width=\"1000\" style=\"margin:auto\"/>"
   ]
  },
  {
   "cell_type": "markdown",
   "metadata": {
    "slideshow": {
     "slide_type": "subslide"
    }
   },
   "source": [
    "<img src=\"diagram_1-Page-4.svg\" width=\"1000\" style=\"margin:auto\"/>"
   ]
  },
  {
   "cell_type": "markdown",
   "metadata": {
    "slideshow": {
     "slide_type": "fragment"
    }
   },
   "source": [
    "<img src=\"diagram_1-Page-5.svg\" width=\"1000\" style=\"margin:auto\"/>"
   ]
  },
  {
   "cell_type": "markdown",
   "metadata": {
    "slideshow": {
     "slide_type": "fragment"
    }
   },
   "source": [
    "<img src=\"diagram_1-Page-6.svg\" width=\"1000\" style=\"margin:auto\"/>"
   ]
  },
  {
   "cell_type": "markdown",
   "metadata": {
    "slideshow": {
     "slide_type": "subslide"
    }
   },
   "source": [
    "#### Complexity"
   ]
  },
  {
   "cell_type": "markdown",
   "metadata": {
    "slideshow": {
     "slide_type": "fragment"
    }
   },
   "source": [
    "<img src=\"diagram_1-Page-7.svg\" width=\"400\" style=\"margin:auto\"/>"
   ]
  },
  {
   "cell_type": "code",
   "execution_count": null,
   "metadata": {
    "slideshow": {
     "slide_type": "slide"
    }
   },
   "outputs": [],
   "source": [
    "# Write code with students"
   ]
  },
  {
   "cell_type": "code",
   "execution_count": 7,
   "metadata": {
    "slideshow": {
     "slide_type": "subslide"
    }
   },
   "outputs": [],
   "source": [
    "class Node:\n",
    "    def __init__(self, data):\n",
    "        self.__data = data\n",
    "        self.__next = None\n",
    "        \n",
    "    def set_data(self, data):\n",
    "        self.__data = data\n",
    "        \n",
    "    def get_data(self):\n",
    "        return self.__data\n",
    "    \n",
    "    def set_next(self, node):\n",
    "        self.__next = node\n",
    "        \n",
    "    def get_next(self):\n",
    "        return self.__next"
   ]
  },
  {
   "cell_type": "code",
   "execution_count": 10,
   "metadata": {},
   "outputs": [],
   "source": [
    "class LinkedList:\n",
    "    def __init__(self):\n",
    "        self.__head = None\n",
    "        \n",
    "    def is_empty(self):\n",
    "        return self.__head is None\n",
    "    \n",
    "    def add(self, item):\n",
    "        node = Node(item)\n",
    "        node.set_next(self.__head)\n",
    "        self.__head = node\n",
    "        \n",
    "    def __str__(self):\n",
    "        if self.__head is None:\n",
    "            return '[]'\n",
    "        current = self.__head\n",
    "        data = str(current.get_data())\n",
    "        while not current.get_next() is None:\n",
    "            current = current.get_next()\n",
    "            data += \", \" + str(current.get_data())\n",
    "        return data\n"
   ]
  },
  {
   "cell_type": "code",
   "execution_count": 14,
   "metadata": {},
   "outputs": [
    {
     "name": "stdout",
     "output_type": "stream",
     "text": [
      "75, 5, 1\n"
     ]
    }
   ],
   "source": [
    "my_list = LinkedList()\n",
    "my_list.is_empty()\n",
    "my_list.add(1)\n",
    "my_list.add(5)\n",
    "my_list.add(75)\n",
    "# my_list.add(95)\n",
    "# my_list.is_empty()\n",
    "print(my_list)"
   ]
  },
  {
   "cell_type": "markdown",
   "metadata": {
    "slideshow": {
     "slide_type": "slide"
    }
   },
   "source": [
    "# Homework №3\n",
    "```\n",
    "    1.  Ինչ data structure կօգտագործեք՝ Linked List թե Array:\n",
    "        \n",
    "        1.1 Ամեն օր գրում եք ձեր ծախսերը և ամսվա վերջում հաշվում։\n",
    "        \n",
    "        1.2 Հաճախորդները ավելացնում են պատվերներ իսկ խոհարարը\n",
    "        հերթով վերցնում և կատարում։\n",
    "    \n",
    "\t2.  Գրեք Linked List որը կունենա հետեվյալ method-ները։\n",
    "        \n",
    "        2.1 size - վերադարձնում է item-ների քանակը\n",
    "        \n",
    "        2.2 remove - ջնջում է առաջին արաջին հանդիպած տվյալ item-ը\n",
    "\n",
    "        2.3 __str__ - Linked List-ը տպում է list-ի նման\n",
    "\n",
    "        2.4 search - փնտրում է item-ը\n",
    "\n",
    "        2.5 __iter__, __next__ - Linked List֊ը դարձնել itarable\n",
    "```\n",
    "\n",
    "### Research\n",
    "```\n",
    "\t1.\tDynamic Array\n",
    "```"
   ]
  }
 ],
 "metadata": {
  "celltoolbar": "Slideshow",
  "kernelspec": {
   "display_name": "Python 3",
   "language": "python",
   "name": "python3"
  },
  "language_info": {
   "codemirror_mode": {
    "name": "ipython",
    "version": 3
   },
   "file_extension": ".py",
   "mimetype": "text/x-python",
   "name": "python",
   "nbconvert_exporter": "python",
   "pygments_lexer": "ipython3",
   "version": "3.9.0"
  }
 },
 "nbformat": 4,
 "nbformat_minor": 4
}

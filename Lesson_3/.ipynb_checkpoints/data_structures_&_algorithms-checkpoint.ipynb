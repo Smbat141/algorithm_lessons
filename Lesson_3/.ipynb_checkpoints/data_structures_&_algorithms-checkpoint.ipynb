{
 "cells": [
  {
   "cell_type": "markdown",
   "metadata": {
    "slideshow": {
     "slide_type": "slide"
    }
   },
   "source": [
    "## Data Structures & Algorithms №2  \n",
    "#### Basic Data Structures\n",
    "<br/>\n",
    "<img src=\"image_1.png\" width=\"900\" style=\"margin:auto\"/>"
   ]
  },
  {
   "cell_type": "markdown",
   "metadata": {
    "slideshow": {
     "slide_type": "slide"
    }
   },
   "source": [
    "## 1. Arrays (Nor Norker)"
   ]
  },
  {
   "cell_type": "markdown",
   "metadata": {
    "slideshow": {
     "slide_type": "subslide"
    }
   },
   "source": [
    "#### How memory works"
   ]
  },
  {
   "cell_type": "markdown",
   "metadata": {
    "slideshow": {
     "slide_type": "fragment"
    }
   },
   "source": [
    "<img src=\"image_2.png\" width=\"800\" style=\"margin:auto\"/>"
   ]
  },
  {
   "cell_type": "markdown",
   "metadata": {
    "slideshow": {
     "slide_type": "subslide"
    }
   },
   "source": [
    "<img src=\"image_3.svg\" width=\"1000\" style=\"margin:auto\"/>"
   ]
  },
  {
   "cell_type": "markdown",
   "metadata": {
    "slideshow": {
     "slide_type": "subslide"
    }
   },
   "source": [
    "<img src=\"image_4.svg\" width=\"1000\" style=\"margin:auto\"/>"
   ]
  },
  {
   "cell_type": "markdown",
   "metadata": {
    "slideshow": {
     "slide_type": "subslide"
    }
   },
   "source": [
    "<img src=\"image_5.png\" width=\"450\" style=\"margin:auto\"/>"
   ]
  },
  {
   "cell_type": "markdown",
   "metadata": {
    "slideshow": {
     "slide_type": "fragment"
    }
   },
   "source": [
    "<img src=\"image_6.png\" width=\"450\" style=\"margin:auto\"/>"
   ]
  },
  {
   "cell_type": "markdown",
   "metadata": {
    "slideshow": {
     "slide_type": "fragment"
    }
   },
   "source": [
    "<img src=\"image_7.png\" width=\"450\" style=\"margin:auto\"/>"
   ]
  },
  {
   "cell_type": "markdown",
   "metadata": {
    "slideshow": {
     "slide_type": "subslide"
    }
   },
   "source": [
    "<img src=\"diagram_1-Page-1.svg\" width=\"800\" style=\"margin:auto\"/>"
   ]
  },
  {
   "cell_type": "markdown",
   "metadata": {
    "slideshow": {
     "slide_type": "fragment"
    }
   },
   "source": [
    "<img src=\"diagram_1-Page-2.svg\" width=\"800\" style=\"margin:auto\"/>"
   ]
  },
  {
   "cell_type": "markdown",
   "metadata": {
    "slideshow": {
     "slide_type": "fragment"
    }
   },
   "source": [
    "<img src=\"diagram_1-Page-3.svg\" width=\"800\" style=\"margin:auto\"/>"
   ]
  },
  {
   "cell_type": "markdown",
   "metadata": {
    "slideshow": {
     "slide_type": "slide"
    }
   },
   "source": [
    "## 2. Linked Lists"
   ]
  },
  {
   "cell_type": "markdown",
   "metadata": {
    "slideshow": {
     "slide_type": "fragment"
    }
   },
   "source": [
    "<img src=\"image_9.png\" width=\"1000\" style=\"margin:auto\"/>"
   ]
  },
  {
   "cell_type": "markdown",
   "metadata": {
    "slideshow": {
     "slide_type": "subslide"
    }
   },
   "source": [
    "<img src=\"image_10.png\" width=\"1000\" style=\"margin:auto\"/>"
   ]
  },
  {
   "cell_type": "markdown",
   "metadata": {
    "slideshow": {
     "slide_type": "subslide"
    }
   },
   "source": [
    "<img src=\"diagram_1-Page-4.svg\" width=\"1000\" style=\"margin:auto\"/>"
   ]
  },
  {
   "cell_type": "markdown",
   "metadata": {
    "slideshow": {
     "slide_type": "fragment"
    }
   },
   "source": [
    "<img src=\"diagram_1-Page-5.svg\" width=\"1000\" style=\"margin:auto\"/>"
   ]
  },
  {
   "cell_type": "markdown",
   "metadata": {
    "slideshow": {
     "slide_type": "fragment"
    }
   },
   "source": [
    "<img src=\"diagram_1-Page-6.svg\" width=\"1000\" style=\"margin:auto\"/>"
   ]
  },
  {
   "cell_type": "markdown",
   "metadata": {
    "slideshow": {
     "slide_type": "subslide"
    }
   },
   "source": [
    "#### Complexity"
   ]
  },
  {
   "cell_type": "markdown",
   "metadata": {
    "slideshow": {
     "slide_type": "fragment"
    }
   },
   "source": [
    "<img src=\"diagram_1-Page-7.svg\" width=\"400\" style=\"margin:auto\"/>"
   ]
  },
  {
   "cell_type": "code",
   "execution_count": null,
   "metadata": {
    "slideshow": {
     "slide_type": "slide"
    }
   },
   "outputs": [],
   "source": [
    "# Write code with students"
   ]
  },
  {
   "cell_type": "code",
   "execution_count": null,
   "metadata": {
    "slideshow": {
     "slide_type": "subslide"
    }
   },
   "outputs": [],
   "source": [
    "class Node:\n",
    "    def __init__(self, data):\n",
    "        self.__data = data\n",
    "        self.__next = None\n",
    "    def set_data(self, data):\n",
    "        self._data = data\n",
    "    def get_data(self):\n",
    "        return self.__data\n",
    "    def set_next(self, node):\n",
    "        self.__next = node\n",
    "    def get_next(self):\n",
    "       return self.__next\n",
    "class LinkedList:\n",
    "    def __init__(self):\n",
    "        self.__head = None\n",
    "    def is_empty(self):\n",
    "        return self.__head is None\n",
    "    def add(self, item):\n",
    "        node = Node(item)\n",
    "        node.set_next(self.__head)\n",
    "        self.__head = node\n",
    "    def size(self):\n",
    "        current = self.__head\n",
    "        count = 0\n",
    "        while not current is None:\n",
    "            current = current.get_next()\n",
    "            count += 1\n",
    "        return count\n",
    "    def search(self, item):\n",
    "        current = self.__head\n",
    "        while not current is None:\n",
    "            if current.get_data() == item:\n",
    "                return True\n",
    "            else:\n",
    "                current = current.get_next()\n",
    "        return False\n",
    "    def remove(self, item):\n",
    "        current = self.__head\n",
    "        prev = None\n",
    "        while True:\n",
    "            if current.get_data() == item:\n",
    "                break\n",
    "            else:\n",
    "                prev = current\n",
    "                current = current.get_next()\n",
    "        if prev is None:\n",
    "            self.__head = current.get_next()\n",
    "        else:\n",
    "            prev.set_next(current.get_next())\n",
    "    def __str__(self):\n",
    "        if self.__head is None:\n",
    "            return '[]'\n",
    "        current = self.__head\n",
    "        out = '[' + str(current.get_data()) + ', '\n",
    "        while not current.get_next() is None:\n",
    "            current = current.get_next()\n",
    "            out += str(current.get_data()) + ', '\n",
    "        return out + ']'\n",
    "my_list = LinkedList()\n",
    "my_list.add(1)\n",
    "my_list.add(5)\n",
    "my_list.add(75)\n",
    "my_list.add(95)\n",
    "my_list.remove(5)\n",
    "#print(my_list)\n",
    "#print(my_list.search(75))\n",
    "#print(my_list.size())\n",
    "#print(my_list.is_empty())"
   ]
  },
  {
   "cell_type": "markdown",
   "metadata": {
    "slideshow": {
     "slide_type": "slide"
    }
   },
   "source": [
    "# Homework №2\n",
    "\n",
    "```\n",
    "\n",
    "\t1.Ինչ կլինի algorithm-ի բարդությունը\n",
    "\t\n",
    "\t\t1.1 Հեռախոսային գրքույկում ցանկանում ենք գտնել ազգանունը \n",
    "        և ունենք հեռախոսահամարը:\n",
    "\t\t\n",
    "\t\t1.1 Հեռախոսային գրքույկում ցանկանում ենք գտնել հեռախոսահամարը\n",
    "        և ունենք ազգանունը:\n",
    "\n",
    "\n",
    "\t2.Գրեք Euclid-ի algorithm-ը (research-ից հետո) \n",
    "\t\t\n",
    "\t\t2.1 Diagram\n",
    "\t\t\n",
    "\t\t2.2 Pseudocode\n",
    "\t\t\n",
    "\t\t2.3 Code\n",
    "\t\t\n",
    "\t3.Գրեք ծրագիր որը Binary number-ը կդարձնի Decmial:\n",
    "```\n",
    "\n",
    "### Research\n",
    "```\n",
    "\t1.\tEuclid-ի algorithm-ը\n",
    "```"
   ]
  }
 ],
 "metadata": {
  "celltoolbar": "Slideshow",
  "kernelspec": {
   "display_name": "Python 3",
   "language": "python",
   "name": "python3"
  },
  "language_info": {
   "codemirror_mode": {
    "name": "ipython",
    "version": 3
   },
   "file_extension": ".py",
   "mimetype": "text/x-python",
   "name": "python",
   "nbconvert_exporter": "python",
   "pygments_lexer": "ipython3",
   "version": "3.9.0"
  }
 },
 "nbformat": 4,
 "nbformat_minor": 4
}

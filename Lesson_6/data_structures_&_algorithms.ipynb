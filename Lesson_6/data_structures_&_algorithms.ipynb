{
 "cells": [
  {
   "cell_type": "markdown",
   "metadata": {
    "slideshow": {
     "slide_type": "slide"
    }
   },
   "source": [
    "## Data Structures & Algorithms №6  \n",
    "#### Divide & Conquer,  Sort Algorithms Part 3\n",
    "<br/>\n",
    "<img src=\"image_1.jpg\" width=\"500\" style=\"margin:auto\"/>"
   ]
  },
  {
   "cell_type": "markdown",
   "metadata": {
    "slideshow": {
     "slide_type": "slide"
    }
   },
   "source": [
    "## 1. Divide & Conquer"
   ]
  },
  {
   "cell_type": "markdown",
   "metadata": {
    "slideshow": {
     "slide_type": "subslide"
    }
   },
   "source": [
    "<img src=\"divide_&_conquer_1.png\" width=\"800\" style=\"margin:auto\"/>"
   ]
  },
  {
   "cell_type": "markdown",
   "metadata": {
    "slideshow": {
     "slide_type": "subslide"
    }
   },
   "source": [
    "<img src=\"divide_&_conquer_2.png\" width=\"800\" style=\"margin:auto\"/>"
   ]
  },
  {
   "cell_type": "markdown",
   "metadata": {
    "slideshow": {
     "slide_type": "subslide"
    }
   },
   "source": [
    "<img src=\"divide_&_conquer_3.png\" width=\"800\" style=\"margin:auto\"/>"
   ]
  },
  {
   "cell_type": "markdown",
   "metadata": {
    "slideshow": {
     "slide_type": "subslide"
    }
   },
   "source": [
    "<img src=\"divide_&_conquer_4.png\" width=\"800\" style=\"margin:auto\"/>"
   ]
  },
  {
   "cell_type": "markdown",
   "metadata": {
    "slideshow": {
     "slide_type": "subslide"
    }
   },
   "source": [
    "<img src=\"divide_&_conquer_5.png\" width=\"800\" style=\"margin:auto\"/>"
   ]
  },
  {
   "cell_type": "markdown",
   "metadata": {
    "slideshow": {
     "slide_type": "subslide"
    }
   },
   "source": [
    "<img src=\"divide_&_conquer_6.png\" width=\"400\" style=\"margin:auto\"/>"
   ]
  },
  {
   "cell_type": "markdown",
   "metadata": {
    "slideshow": {
     "slide_type": "subslide"
    }
   },
   "source": [
    "<img src=\"divide_&_conquer_7.png\" width=\"800\" style=\"margin:auto\"/>"
   ]
  },
  {
   "cell_type": "markdown",
   "metadata": {
    "slideshow": {
     "slide_type": "subslide"
    }
   },
   "source": [
    "<img src=\"divide_&_conquer_8.png\" width=\"800\" style=\"margin:auto\"/>"
   ]
  },
  {
   "cell_type": "markdown",
   "metadata": {
    "slideshow": {
     "slide_type": "subslide"
    }
   },
   "source": [
    "<img src=\"divide_&_conquer_9.png\" width=\"800\" style=\"margin:auto\"/>"
   ]
  },
  {
   "cell_type": "markdown",
   "metadata": {
    "slideshow": {
     "slide_type": "subslide"
    }
   },
   "source": [
    "<img src=\"divide_&_conquer_10.png\" width=\"800\" style=\"margin:auto\"/>"
   ]
  },
  {
   "cell_type": "markdown",
   "metadata": {
    "slideshow": {
     "slide_type": "subslide"
    }
   },
   "source": [
    "<img src=\"divide_&_conquer_11.png\" width=\"800\" style=\"margin:auto\"/>"
   ]
  },
  {
   "cell_type": "markdown",
   "metadata": {
    "slideshow": {
     "slide_type": "subslide"
    }
   },
   "source": [
    "### euclidean algorithm"
   ]
  },
  {
   "cell_type": "code",
   "execution_count": 22,
   "metadata": {
    "slideshow": {
     "slide_type": "fragment"
    }
   },
   "outputs": [],
   "source": [
    "def find_square(a, b):\n",
    "    if b == 0:\n",
    "        return a\n",
    "    return f1(b, a % b)"
   ]
  },
  {
   "cell_type": "markdown",
   "metadata": {
    "slideshow": {
     "slide_type": "slide"
    }
   },
   "source": [
    "## 2. Quick Sort"
   ]
  },
  {
   "cell_type": "markdown",
   "metadata": {
    "slideshow": {
     "slide_type": "subslide"
    }
   },
   "source": [
    "<img src=\"quick_sort_1.png\" width=\"800\" style=\"margin:auto\"/>"
   ]
  },
  {
   "cell_type": "markdown",
   "metadata": {
    "slideshow": {
     "slide_type": "subslide"
    }
   },
   "source": [
    "<img src=\"quick_sort_2.png\" width=\"800\" style=\"margin:auto\"/>"
   ]
  },
  {
   "cell_type": "markdown",
   "metadata": {
    "slideshow": {
     "slide_type": "subslide"
    }
   },
   "source": [
    "<img src=\"quick_sort_3.png\" width=\"800\" style=\"margin:auto\"/>"
   ]
  },
  {
   "cell_type": "code",
   "execution_count": null,
   "metadata": {
    "slideshow": {
     "slide_type": "subslide"
    }
   },
   "outputs": [],
   "source": [
    "# write code with students"
   ]
  },
  {
   "cell_type": "code",
   "execution_count": 25,
   "metadata": {
    "slideshow": {
     "slide_type": "subslide"
    }
   },
   "outputs": [
    {
     "name": "stdout",
     "output_type": "stream",
     "text": [
      "[5, 1, 9, 4, 2, 6, 8, 3, 0, 7]\n"
     ]
    },
    {
     "data": {
      "text/plain": [
       "[0, 1, 2, 3, 4, 5, 6, 7, 8, 9]"
      ]
     },
     "execution_count": 25,
     "metadata": {},
     "output_type": "execute_result"
    }
   ],
   "source": [
    "import random\n",
    "\n",
    "size = 10 \n",
    "lst = [i for i in range(size)]\n",
    "random.shuffle(lst)\n",
    "print(lst)\n",
    "\n",
    "def quick_sort(array):\n",
    "    if len(array) <= 1:\n",
    "        return array\n",
    "    pivot = random.choice(array)\n",
    "    s_ar = []\n",
    "    m_ar = []\n",
    "    l_ar = []\n",
    "    for item in array:\n",
    "        if item < pivot:\n",
    "            s_ar.append(item)\n",
    "        elif item > pivot:\n",
    "            l_ar.append(item)\n",
    "        elif item == pivot:\n",
    "            m_ar.append(item)\n",
    "    return quick_sort(s_ar) + m_ar + quick_sort(l_ar)\n",
    "\n",
    "quick_sort(lst)"
   ]
  },
  {
   "cell_type": "markdown",
   "metadata": {
    "slideshow": {
     "slide_type": "slide"
    }
   },
   "source": [
    "## 3. Merge Sort\n"
   ]
  },
  {
   "cell_type": "markdown",
   "metadata": {
    "slideshow": {
     "slide_type": "subslide"
    }
   },
   "source": [
    "<img src=\"Merge_sort_algorithm.svg.png\" width=\"800\" style=\"margin:auto\"/>"
   ]
  },
  {
   "cell_type": "code",
   "execution_count": null,
   "metadata": {
    "slideshow": {
     "slide_type": "subslide"
    }
   },
   "outputs": [],
   "source": [
    "# import random\n",
    "\n",
    "# size = 10 \n",
    "# lst = [i for i in range(size)]\n",
    "# random.shuffle(lst)\n",
    "# print(lst)"
   ]
  },
  {
   "cell_type": "code",
   "execution_count": 24,
   "metadata": {
    "slideshow": {
     "slide_type": "subslide"
    }
   },
   "outputs": [],
   "source": [
    "# def mergeSort(arr):\n",
    "#     if len(arr) > 1:\n",
    "#         mid = len(arr)//2\n",
    "#         L = arr[:mid]\n",
    "#         R = arr[mid:]\n",
    "#         mergeSort(L)\n",
    "#         mergeSort(R)\n",
    "#         i = j = k = 0\n",
    "#         while i < len(L) and j < len(R):\n",
    "#             if L[i] < R[j]:\n",
    "#                 arr[k] = L[i]\n",
    "#                 i += 1\n",
    "#             else:\n",
    "#                 arr[k] = R[j]\n",
    "#                 j += 1\n",
    "#             k += 1\n",
    "#         while i < len(L):\n",
    "#             arr[k] = L[i]\n",
    "#             i += 1\n",
    "#             k += 1\n",
    "#         while j < len(R):\n",
    "#             arr[k] = R[j]\n",
    "#             j += 1\n",
    "#             k += 1\n",
    "# mergeSort(lst)\n",
    "# print(lst)"
   ]
  },
  {
   "cell_type": "markdown",
   "metadata": {
    "slideshow": {
     "slide_type": "slide"
    }
   },
   "source": [
    "<img src=\"merge_sort_vs_quick_sort.svg\" width=\"800\" style=\"margin:auto\"/>"
   ]
  },
  {
   "cell_type": "markdown",
   "metadata": {
    "slideshow": {
     "slide_type": "slide"
    }
   },
   "source": [
    "# Homework №6\n",
    "\n",
    "```\n",
    "    1.  Ինչ կլինի complexity֊ին 1-10 թվերի բազմապատկման աղյուսակը\n",
    "    գրելու համար։\n",
    "\n",
    "    2.  Գրեք recursive function որը կհաշվի list-ի item-ների գումարը։ \n",
    "    \n",
    "    3.  Գրեք recursive function որը կհաշվի list-ի item-ների քանակը։ \n",
    "    \n",
    "    4.  Ստեղծեք 100, 10000 և 1000000 item-ներ ունեցող list-եր որոնք\n",
    "    կլինեն random դասավորված\n",
    "        \n",
    "        4.1 Սորտավորեք list-երը quick sort-ի և merge sort-ի \n",
    "        օգնությամբ timeit module-ի միջոցով ստուգեք յուրաքանչյուրի\n",
    "        արագությունը։\n",
    "        \n",
    "        4.2 Ստուգեք յուրաքանչյուրի արագությունը արդեն սորտավորված \n",
    "        list-երի դեպքում։\n",
    "        \n",
    "        4.3 Ներկայացրեք table ստացած տվյալներով։    \n",
    "```\n",
    "\n",
    "### Research\n",
    "```\n",
    "    1.  timeit module\n",
    "```"
   ]
  }
 ],
 "metadata": {
  "celltoolbar": "Slideshow",
  "kernelspec": {
   "display_name": "Python 3",
   "language": "python",
   "name": "python3"
  },
  "language_info": {
   "codemirror_mode": {
    "name": "ipython",
    "version": 3
   },
   "file_extension": ".py",
   "mimetype": "text/x-python",
   "name": "python",
   "nbconvert_exporter": "python",
   "pygments_lexer": "ipython3",
   "version": "3.9.0"
  }
 },
 "nbformat": 4,
 "nbformat_minor": 4
}

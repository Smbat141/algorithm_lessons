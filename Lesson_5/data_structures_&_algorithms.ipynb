{
 "cells": [
  {
   "cell_type": "markdown",
   "metadata": {
    "slideshow": {
     "slide_type": "slide"
    }
   },
   "source": [
    "## Data Structures & Algorithms №5  \n",
    "#### Recursion, Stack, Sort Algorithms Part 2\n",
    "<br/>\n",
    "<img src=\"image_1.jpeg\" width=\"800\" style=\"margin:auto\"/>"
   ]
  },
  {
   "cell_type": "markdown",
   "metadata": {
    "slideshow": {
     "slide_type": "slide"
    }
   },
   "source": [
    "## 1. Stack"
   ]
  },
  {
   "cell_type": "markdown",
   "metadata": {
    "slideshow": {
     "slide_type": "subslide"
    }
   },
   "source": [
    "<img src=\"blini.jpg\" width=\"800\" style=\"margin:auto\"/>"
   ]
  },
  {
   "cell_type": "markdown",
   "metadata": {
    "slideshow": {
     "slide_type": "subslide"
    }
   },
   "source": [
    "<img src=\"stack.png\" width=\"800\" style=\"margin:auto\"/>"
   ]
  },
  {
   "cell_type": "code",
   "execution_count": null,
   "metadata": {
    "slideshow": {
     "slide_type": "subslide"
    }
   },
   "outputs": [],
   "source": [
    "# Write simple stack with students"
   ]
  },
  {
   "cell_type": "markdown",
   "metadata": {
    "slideshow": {
     "slide_type": "slide"
    }
   },
   "source": [
    "## 2. Recursion"
   ]
  },
  {
   "cell_type": "markdown",
   "metadata": {
    "slideshow": {
     "slide_type": "fragment"
    }
   },
   "source": [
    "#### 1. Base Case"
   ]
  },
  {
   "cell_type": "markdown",
   "metadata": {
    "slideshow": {
     "slide_type": "fragment"
    }
   },
   "source": [
    "#### 2. General Case"
   ]
  },
  {
   "cell_type": "markdown",
   "metadata": {},
   "source": [
    "#### 3. Before and After Recursion Case"
   ]
  },
  {
   "cell_type": "code",
   "execution_count": 2,
   "metadata": {
    "slideshow": {
     "slide_type": "subslide"
    }
   },
   "outputs": [],
   "source": [
    "# main_box = [[], [], [[\"sarafan\"], [], [\"key\"]], []]\n",
    "\n",
    "# def look_for_key(main_box):\n",
    "#     i = 0\n",
    "#     while main_box != []:\n",
    "#         box = main_box[i] \n",
    "#         print(i)\n",
    "#         for item in box:\n",
    "#             if item == \"key\":\n",
    "#                 print(\"key found\")\n",
    "#             elif isinstance(item, list):\n",
    "#                 main_box.append(item)\n",
    "                \n",
    "#         main_box.pop(i)\n",
    "        \n",
    "# look_for_key(main_box)   "
   ]
  },
  {
   "cell_type": "code",
   "execution_count": 4,
   "metadata": {
    "slideshow": {
     "slide_type": "subslide"
    }
   },
   "outputs": [],
   "source": [
    "# main_box = [[], [], [[], [\"sarafan\"], [\"key\"]], []]\n",
    "\n",
    "# def look_for_key(main_box):   \n",
    "#     for item in main_box:\n",
    "#         if item == \"key\":\n",
    "#             print(\"key found\")\n",
    "        \n",
    "#         elif isinstance(item, list) and item:\n",
    "#             look_for_key(item)\n",
    "        \n",
    "# look_for_key(main_box)"
   ]
  },
  {
   "cell_type": "code",
   "execution_count": 4,
   "metadata": {
    "slideshow": {
     "slide_type": "subslide"
    }
   },
   "outputs": [],
   "source": [
    "# def func1(x):\n",
    "#     print(\"before recursion\", x)\n",
    "    \n",
    "#     if x >= 10:\n",
    "#         return\n",
    "#     else:\n",
    "#         func1(x + 1)\n",
    "#     print(\"after recursion\", x)\n",
    "\n",
    "# func1(0)"
   ]
  },
  {
   "cell_type": "markdown",
   "metadata": {
    "slideshow": {
     "slide_type": "slide"
    }
   },
   "source": [
    "## 3. Selection Sort\n"
   ]
  },
  {
   "cell_type": "markdown",
   "metadata": {
    "slideshow": {
     "slide_type": "subslide"
    }
   },
   "source": [
    "<img src=\"Selection-sort-0.png\" width=\"700\" style=\"margin:auto\"/>"
   ]
  },
  {
   "cell_type": "markdown",
   "metadata": {
    "slideshow": {
     "slide_type": "subslide"
    }
   },
   "source": [
    "<img src=\"Selection-sort-1.png\" width=\"700\" style=\"margin:auto\"/>"
   ]
  },
  {
   "cell_type": "code",
   "execution_count": 6,
   "metadata": {
    "slideshow": {
     "slide_type": "subslide"
    }
   },
   "outputs": [
    {
     "name": "stdout",
     "output_type": "stream",
     "text": [
      "[8, 2, 3, 6, 4, 1]\n",
      "[1, 2, 3, 4, 6, 8]\n"
     ]
    }
   ],
   "source": [
    "# Write code with students\n",
    "\n",
    "def get_min(lst):\n",
    "    min_index = 0\n",
    "    for i in range(1, len(lst)):\n",
    "        if lst[min_index] > lst[i]: \n",
    "            min_index = i\n",
    "    return min_index\n",
    "\n",
    "def selection_sort(lst):\n",
    "    for i in range(len(lst)):\n",
    "        index = get_min(lst[i:])\n",
    "        lst[i], lst[index + i] = lst[index + i], lst[i]\n",
    "\n",
    "x = [8, 2, 3, 6, 4, 1]\n",
    "print(x)\n",
    "selection_sort(x)\n",
    "print(x)"
   ]
  },
  {
   "cell_type": "code",
   "execution_count": 16,
   "metadata": {
    "slideshow": {
     "slide_type": "subslide"
    }
   },
   "outputs": [],
   "source": [
    "import random\n",
    "\n",
    "size = 10 \n",
    "lst = [i for i in range(size)]\n",
    "random.shuffle(lst)\n",
    "print(lst)\n",
    "\n",
    "def find_smallest(lst):\n",
    "    smallest = lst[0]\n",
    "    smallest_index = 0\n",
    "    for i in range(1, len(lst)):\n",
    "        if lst[i] < smallest:\n",
    "            smallest = lst[i]\n",
    "            smallest_index = i \n",
    "    return smallest_index\n",
    "\n",
    "def selection_sort(lst):\n",
    "    new_lst = []\n",
    "    for i in range(len(lst)):\n",
    "        smallest = find_smallest(lst)\n",
    "        new_lst.append(lst.pop(smallest))\n",
    "    return new_lst\n",
    "\n",
    "print(selection_sort(lst))"
   ]
  },
  {
   "cell_type": "code",
   "execution_count": 15,
   "metadata": {
    "slideshow": {
     "slide_type": "subslide"
    }
   },
   "outputs": [],
   "source": [
    "import random\n",
    "\n",
    "size = 10 \n",
    "lst = [i for i in range(size)]\n",
    "random.shuffle(lst)\n",
    "print(lst)\n",
    "\n",
    "def selection_sort(lst):\n",
    "    for i in range(len(lst)):\n",
    "        index_min = i\n",
    "        \n",
    "        for j in range(i + 1, len(lst)):\n",
    "            if lst[j] < lst[index_min]:\n",
    "                index_min = j\n",
    "                \n",
    "        lst[index_min], lst[i] = lst[i], lst[index_min]\n",
    "\n",
    "selection_sort(lst)\n",
    "print(lst)"
   ]
  },
  {
   "cell_type": "markdown",
   "metadata": {
    "slideshow": {
     "slide_type": "slide"
    }
   },
   "source": [
    "# Homework №5\n",
    "\n",
    "```\n",
    "    1.  Ինչ ընդունված կանոնի պետք է հետեվեք անվերջ ռեկուրսիայից\n",
    "    խուսափելու համար։\n",
    "\n",
    "    2.  Ինչ error եք ստանում անվերջ ռեկուրսիայի դեպքում։\n",
    "\n",
    "    3․  Ինչ կտպի հետեվյալ կոդը։\n",
    "        m = Stack()\n",
    "        m.push('x')\n",
    "        m.push('y')\n",
    "        m.pop()\n",
    "        m.push('z')\n",
    "        print(m.peek())\n",
    "    \n",
    "    4.  Ստուգեք բալանսավորված են արդյոք տրված string-ում փակագծերը։\n",
    "        \n",
    "        Օրինակ       \n",
    "            Input : {[]{()}}\n",
    "            Output : Balanced\n",
    "    \n",
    "            Input : [{}{}(]\n",
    "            Output : Unbalanced  \n",
    "\n",
    "    5.  Սորտավորեք տրված list-ը ըստ լսումների քանակի selection sort-ի\n",
    "    միջոցով։\n",
    "        \n",
    "        [\n",
    "            {'name' : 'Aram Asatryan', 'count' : 5000},\n",
    "            {'name' : 'Oxxxymiron', 'count' : 2},\n",
    "            {'name' : 'Guf', 'count' : 300},\n",
    "            {'name' : 'Snoop dog', 'count' : 153},\n",
    "            {'name' : '50 Cent', 'count' : 50},\n",
    "            {'name' : 'Pink Floyd', 'count' : 2000},\n",
    "            {'name' : 'Misho', 'count' : 6000},\n",
    "            {'name' : 'Gunther', 'count' : 69000000}\n",
    "        ]\n",
    "```\n",
    "\n",
    "### Research\n",
    "```\n",
    "\t1.  Ինչքան է python-ում մաքսիմում ռեկուրսիայի քանակը և ինչպես \n",
    "    կարող ենք փոխել այն։\n",
    "```"
   ]
  }
 ],
 "metadata": {
  "celltoolbar": "Slideshow",
  "kernelspec": {
   "display_name": "Python 3",
   "language": "python",
   "name": "python3"
  },
  "language_info": {
   "codemirror_mode": {
    "name": "ipython",
    "version": 3
   },
   "file_extension": ".py",
   "mimetype": "text/x-python",
   "name": "python",
   "nbconvert_exporter": "python",
   "pygments_lexer": "ipython3",
   "version": "3.9.0"
  }
 },
 "nbformat": 4,
 "nbformat_minor": 4
}

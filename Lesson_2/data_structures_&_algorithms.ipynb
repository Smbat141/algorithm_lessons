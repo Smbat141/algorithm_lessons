{
 "cells": [
  {
   "cell_type": "markdown",
   "metadata": {
    "slideshow": {
     "slide_type": "slide"
    }
   },
   "source": [
    "## Data Structures & Algorithms №2  \n",
    "#### First Algorithms & Complexity\n",
    "<br/>\n",
    "<img src=\"image_1.jpg\" width=\"1000\" style=\"margin:auto\"/>"
   ]
  },
  {
   "cell_type": "markdown",
   "metadata": {
    "slideshow": {
     "slide_type": "slide"
    }
   },
   "source": [
    "## 1. Convert Decimal to Binary\n"
   ]
  },
  {
   "cell_type": "markdown",
   "metadata": {
    "slideshow": {
     "slide_type": "fragment"
    }
   },
   "source": [
    "what a number 11 ?"
   ]
  },
  {
   "cell_type": "markdown",
   "metadata": {
    "slideshow": {
     "slide_type": "fragment"
    }
   },
   "source": [
    "<img src=\"dechmial_to_binary.png\" width=\"400\" style=\"margin:auto\"/>"
   ]
  },
  {
   "cell_type": "code",
   "execution_count": 18,
   "metadata": {
    "slideshow": {
     "slide_type": "subslide"
    }
   },
   "outputs": [
    {
     "name": "stdout",
     "output_type": "stream",
     "text": [
      "100\n"
     ]
    }
   ],
   "source": [
    "# def dechmial_binary(num, ):\n",
    "#     if num > 1:\n",
    "#         dechmial_binary(num // 2)\n",
    "    \n",
    "#     print(num % 2)\n",
    "\n",
    "# dechmial_binary()\n",
    "\n",
    "def dechmial_binary(num):\n",
    "    binary_number = \"\"\n",
    "    while num > 0:\n",
    "        binary_number += str(num % 2)\n",
    "        num //= 2\n",
    "    return binary_number[::-1]\n",
    "\n",
    "print(dechmial_binary(4))"
   ]
  },
  {
   "cell_type": "code",
   "execution_count": 19,
   "metadata": {
    "slideshow": {
     "slide_type": "subslide"
    }
   },
   "outputs": [
    {
     "name": "stdout",
     "output_type": "stream",
     "text": [
      "Enter number: 45\n",
      "101101\n",
      "Enter number: 0\n"
     ]
    }
   ],
   "source": [
    "def binary(num):\n",
    "    s = ''\n",
    "    while num > 0:\n",
    "        s = f'{num % 2}{s}'\n",
    "        num //= 2\n",
    "    return s\n",
    "\n",
    "while True:\n",
    "    n = int(input('Enter number: '))\n",
    "    if n != 0:\n",
    "        print(binary(n))\n",
    "    else:\n",
    "        break"
   ]
  },
  {
   "cell_type": "markdown",
   "metadata": {
    "slideshow": {
     "slide_type": "slide"
    }
   },
   "source": [
    "## 2. Sieve Of Eratosthenes"
   ]
  },
  {
   "cell_type": "markdown",
   "metadata": {
    "slideshow": {
     "slide_type": "fragment"
    }
   },
   "source": [
    "<img src=\"Sieve_of_Eratosthenes.svg\" width=\"1000\" style=\"margin:auto\"/>"
   ]
  },
  {
   "cell_type": "markdown",
   "metadata": {
    "slideshow": {
     "slide_type": "subslide"
    }
   },
   "source": [
    "#### Sieve Of Eratosthenes Animation (from wikipedia)"
   ]
  },
  {
   "cell_type": "markdown",
   "metadata": {
    "slideshow": {
     "slide_type": "fragment"
    }
   },
   "source": [
    "<img src=\"Sieve_of_Eratosthenes_animation.gif\" width=\"600\" style=\"margin:auto\"/>"
   ]
  },
  {
   "cell_type": "code",
   "execution_count": 21,
   "metadata": {
    "slideshow": {
     "slide_type": "subslide"
    }
   },
   "outputs": [
    {
     "name": "stdout",
     "output_type": "stream",
     "text": [
      "Enter nuber: 100\n",
      "[2, 3, 5, 7, 11, 13, 17, 19, 23, 29, 31, 37, 41, 43, 47, 53, 59, 61, 67, 71, 73, 79, 83, 89, 97]\n"
     ]
    }
   ],
   "source": [
    "n = int(input('Enter nuber: '))\n",
    "sieve = [i for i in range(n)]\n",
    "sieve[1] = 0\n",
    "\n",
    "for i in range(2, n):\n",
    "    if sieve[i] != 0:\n",
    "        j = i * 2\n",
    "        while j < n:\n",
    "            sieve[j] = 0\n",
    "            j += i\n",
    "result = [i for i in sieve if i != 0]\n",
    "\n",
    "print(result)"
   ]
  },
  {
   "cell_type": "markdown",
   "metadata": {
    "slideshow": {
     "slide_type": "slide"
    }
   },
   "source": [
    "### 3. Algorithms complexity O(n)"
   ]
  },
  {
   "cell_type": "code",
   "execution_count": 22,
   "metadata": {
    "slideshow": {
     "slide_type": "fragment"
    }
   },
   "outputs": [],
   "source": [
    "def sum_one(n):\n",
    "    sum_numbers = 0\n",
    "    for i in range(1, n+1):\n",
    "        sum_numbers += 1\n",
    "    return sum_numbers"
   ]
  },
  {
   "cell_type": "code",
   "execution_count": 23,
   "metadata": {
    "slideshow": {
     "slide_type": "fragment"
    }
   },
   "outputs": [],
   "source": [
    "def sum_two(n):\n",
    "    sum_numbers = (n * (n + 1)) / 2\n",
    "    return sum_numbers"
   ]
  },
  {
   "cell_type": "code",
   "execution_count": 28,
   "metadata": {
    "slideshow": {
     "slide_type": "subslide"
    }
   },
   "outputs": [
    {
     "name": "stdout",
     "output_type": "stream",
     "text": [
      "0.004390\n",
      "0.056897\n",
      "0.509558\n",
      "\n",
      "0.000003\n",
      "0.000002\n",
      "0.000002\n"
     ]
    }
   ],
   "source": [
    "from timeit import Timer\n",
    "\n",
    "\n",
    "t = Timer(\"sum_one(10000)\", \"from __main__ import sum_one\")\n",
    "print('{0:.6f}'.format(t.timeit(number=10)))\n",
    "\n",
    "t = Timer(\"sum_one(100000)\", \"from __main__ import sum_one\")\n",
    "print('{0:.6f}'.format(t.timeit(number=10)))\n",
    "\n",
    "t = Timer(\"sum_one(1000000)\", \"from __main__ import sum_one\")\n",
    "print('{0:.6f}'.format(t.timeit(number=10)), end=\"\\n\\n\")\n",
    "\n",
    "\n",
    "\n",
    "t = Timer(\"sum_two(10000)\", \"from __main__ import sum_two\")\n",
    "print('{0:.6f}'.format(t.timeit(number=10)))\n",
    "\n",
    "t = Timer(\"sum_two(100000)\", \"from __main__ import sum_two\")\n",
    "print('{0:.6f}'.format(t.timeit(number=10)))\n",
    "\n",
    "t = Timer(\"sum_two(1000000)\", \"from __main__ import sum_two\")\n",
    "print('{0:.6f}'.format(t.timeit(number=10)))"
   ]
  },
  {
   "cell_type": "markdown",
   "metadata": {
    "slideshow": {
     "slide_type": "subslide"
    }
   },
   "source": [
    "#### Binary Search Complexity"
   ]
  },
  {
   "cell_type": "markdown",
   "metadata": {
    "slideshow": {
     "slide_type": "fragment"
    }
   },
   "source": [
    "<img src=\"diagram_1-Page-2.svg\" width=\"800\" style=\"margin:auto\"/>"
   ]
  },
  {
   "cell_type": "markdown",
   "metadata": {
    "slideshow": {
     "slide_type": "slide"
    }
   },
   "source": [
    "# Homework №2\n",
    "\n",
    "```\n",
    "\n",
    "\t1.Ինչ կլինի algorithm-ի բարդությունը\n",
    "\t\n",
    "\t\t1.1 Հեռախոսային գրքույկում ցանկանում ենք գտնել ազգանունը \n",
    "        և ունենք հեռախոսահամարը:\n",
    "\t\t\n",
    "\t\t1.2 Հեռախոսային գրքույկում ցանկանում ենք գտնել հեռախոսահամարը\n",
    "        և ունենք ազգանունը:\n",
    "\n",
    "\n",
    "\t2.Գրեք Euclid-ի algorithm-ը (research-ից հետո) \n",
    "\t\t\n",
    "\t\t2.1 Diagram\n",
    "\t\t\n",
    "\t\t2.2 Pseudocode\n",
    "\t\t\n",
    "\t\t2.3 Code\n",
    "\t\t\n",
    "\t3.Գրեք ծրագիր որը Binary number-ը կդարձնի Decimal:\n",
    "```\n",
    "\n",
    "### Research\n",
    "```\n",
    "\t1.\tEuclid-ի algorithm-ը\n",
    "```"
   ]
  }
 ],
 "metadata": {
  "celltoolbar": "Slideshow",
  "kernelspec": {
   "display_name": "Python 3",
   "language": "python",
   "name": "python3"
  },
  "language_info": {
   "codemirror_mode": {
    "name": "ipython",
    "version": 3
   },
   "file_extension": ".py",
   "mimetype": "text/x-python",
   "name": "python",
   "nbconvert_exporter": "python",
   "pygments_lexer": "ipython3",
   "version": "3.9.0"
  }
 },
 "nbformat": 4,
 "nbformat_minor": 4
}

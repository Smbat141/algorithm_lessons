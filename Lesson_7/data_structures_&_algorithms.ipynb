{
 "cells": [
  {
   "cell_type": "markdown",
   "metadata": {
    "slideshow": {
     "slide_type": "slide"
    }
   },
   "source": [
    "## Data Structures & Algorithms №7  \n",
    "#### Sort Algorithms Part 4\n",
    "<br/>\n",
    "<img src=\"image_1.jpg\" width=\"1000\" style=\"margin:auto\"/>"
   ]
  },
  {
   "cell_type": "markdown",
   "metadata": {
    "slideshow": {
     "slide_type": "slide"
    }
   },
   "source": [
    "## 1. Insertion Sort"
   ]
  },
  {
   "cell_type": "markdown",
   "metadata": {
    "slideshow": {
     "slide_type": "subslide"
    }
   },
   "source": [
    "<img src=\"insertion-sort_1.png\" width=\"800\" style=\"margin:auto\"/>"
   ]
  },
  {
   "cell_type": "markdown",
   "metadata": {
    "slideshow": {
     "slide_type": "subslide"
    }
   },
   "source": [
    "<img src=\"insertion-sort_2.png\" width=\"800\" style=\"margin:auto\"/>"
   ]
  },
  {
   "cell_type": "code",
   "execution_count": 6,
   "metadata": {
    "slideshow": {
     "slide_type": "subslide"
    }
   },
   "outputs": [],
   "source": [
    "# Write simple stack with students\n",
    "# lst = [2, 1, 6, 7, 3]\n",
    "\n",
    "# def insertion_sort(lst):\n",
    "#     for i in range(1, len(lst)):\n",
    "#         item = lst[i]\n",
    "#         while item < lst[i-1] and i > 0:\n",
    "#             lst[i] = lst[i-1]\n",
    "#             i -= 1\n",
    "#         print(lst)\n",
    "#         lst[i] = item\n",
    "    \n",
    "# insertion_sort(lst)\n",
    "# print(lst)"
   ]
  },
  {
   "cell_type": "code",
   "execution_count": 5,
   "metadata": {
    "slideshow": {
     "slide_type": "subslide"
    }
   },
   "outputs": [],
   "source": [
    "def insertionSort(arr):\n",
    "     for i in range(1, len(arr)): \n",
    "        key = arr[i] \n",
    "        j = i\n",
    "        \n",
    "        while j > 0 and key < arr[j-1] : \n",
    "            arr[j] = arr[j-1] \n",
    "            j -= 1\n",
    "        arr[j] = key\n",
    "            \n",
    "arr = [12, 13, 1, 111, 5, 6, 25]\n",
    "insertionSort(arr)\n",
    "print(arr)"
   ]
  },
  {
   "cell_type": "markdown",
   "metadata": {
    "slideshow": {
     "slide_type": "slide"
    }
   },
   "source": [
    "## 2. Binary Insertion Sort"
   ]
  },
  {
   "cell_type": "markdown",
   "metadata": {
    "slideshow": {
     "slide_type": "subslide"
    }
   },
   "source": [
    "<img src=\"for_binary_insertion_sort.png\" width=\"800\" style=\"margin:auto\"/>"
   ]
  },
  {
   "cell_type": "code",
   "execution_count": 7,
   "metadata": {
    "slideshow": {
     "slide_type": "subslide"
    }
   },
   "outputs": [
    {
     "ename": "NameError",
     "evalue": "name 'test_insertion_binary_sort_success' is not defined",
     "output_type": "error",
     "traceback": [
      "\u001b[1;31m---------------------------------------------------------------------------\u001b[0m",
      "\u001b[1;31mNameError\u001b[0m                                 Traceback (most recent call last)",
      "\u001b[1;32m<ipython-input-7-7c873bb3ecdc>\u001b[0m in \u001b[0;36m<module>\u001b[1;34m\u001b[0m\n\u001b[0;32m     11\u001b[0m \u001b[1;33m\u001b[0m\u001b[0m\n\u001b[0;32m     12\u001b[0m \u001b[1;33m\u001b[0m\u001b[0m\n\u001b[1;32m---> 13\u001b[1;33m \u001b[0mtest_insertion_binary_sort_success\u001b[0m\u001b[1;33m(\u001b[0m\u001b[1;33m)\u001b[0m\u001b[1;33m\u001b[0m\u001b[1;33m\u001b[0m\u001b[0m\n\u001b[0m",
      "\u001b[1;31mNameError\u001b[0m: name 'test_insertion_binary_sort_success' is not defined"
     ]
    }
   ],
   "source": [
    "def integer_test_insertion_binary_sort_success():\n",
    "    integers_list = [1, 4, 3, 2, 5]\n",
    "    expected_result = [1, 2, 3, 4, 5]\n",
    "    result = insertion_binary_sort(integers_list)\n",
    "    message = \"Test pass OK\"\n",
    "\n",
    "    if result != expected_result:\n",
    "        message = f\"Test fail {expected_result} != {result}\"\n",
    "\n",
    "    print(message)\n",
    "\n",
    "\n",
    "test_insertion_binary_sort_success()"
   ]
  },
  {
   "cell_type": "code",
   "execution_count": 10,
   "metadata": {
    "slideshow": {
     "slide_type": "subslide"
    }
   },
   "outputs": [],
   "source": [
    "def binary_search(arr, val, start, end):\n",
    "    if start == end:\n",
    "        if arr[start] > val:\n",
    "            return start\n",
    "        else:\n",
    "            return start + 1\n",
    "\n",
    "    if start > end:\n",
    "        return start\n",
    "\n",
    "    mid = (start + end) // 2\n",
    "    if arr[mid] < val:\n",
    "        return binary_search(arr, val, mid + 1, end)\n",
    "    elif arr[mid] > val:\n",
    "        return binary_search(arr, val, start, mid - 1)\n",
    "    else:\n",
    "        return mid\n",
    "\n",
    "\n",
    "def insertion_binary_sort(arr):\n",
    "    for i in range(1, len(arr)):\n",
    "        val = arr[i]\n",
    "        j = binary_search(arr, val, 0, i - 1)  # Use binary search for already sorted array\n",
    "        arr = arr[:j] + [val] + arr[j:i] + arr[i + 1:]\n",
    "        print(arr)\n",
    "    return arr\n",
    "\n",
    "integers_list = [1, 4, 3, 2, 5]\n",
    "result = insertion_binary_sort(integers_list)"
   ]
  },
  {
   "cell_type": "markdown",
   "metadata": {
    "slideshow": {
     "slide_type": "slide"
    }
   },
   "source": [
    "# Homework №7\n",
    "\n",
    "```\n",
    "    1.  Կարդալ users.txt file-ը, Insertion Sort-ի միջոցով սորտավորել \n",
    "    column-ները և գրել նոր file֊ում։\n",
    "        \n",
    "    2.  Կարդալ users.txt file-ը, Binary Insertion Sort-ի միջոցով \n",
    "    սորտավորել row-ները \n",
    "        \n",
    "        2.1 ըստ age-ի։\n",
    "        \n",
    "        2.2 ըստ function-ի parameter-ով ստացած column-ի։\n",
    "```\n",
    "\n",
    "### Research\n",
    "```\n",
    "    1.   Գտնել Binary Insertion Sort-ի complexity-ն վատագույն, միջին և\n",
    "    լավագույն case-երում։\n",
    "```"
   ]
  }
 ],
 "metadata": {
  "celltoolbar": "Slideshow",
  "kernelspec": {
   "display_name": "Python 3",
   "language": "python",
   "name": "python3"
  },
  "language_info": {
   "codemirror_mode": {
    "name": "ipython",
    "version": 3
   },
   "file_extension": ".py",
   "mimetype": "text/x-python",
   "name": "python",
   "nbconvert_exporter": "python",
   "pygments_lexer": "ipython3",
   "version": "3.9.0"
  }
 },
 "nbformat": 4,
 "nbformat_minor": 4
}

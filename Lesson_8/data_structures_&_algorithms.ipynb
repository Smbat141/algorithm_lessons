{
 "cells": [
  {
   "cell_type": "markdown",
   "metadata": {
    "slideshow": {
     "slide_type": "slide"
    }
   },
   "source": [
    "## Data Structures & Algorithms №8  \n",
    "### Queue, Collections, Timsort \n",
    "<br/>\n",
    "<img src=\"image_1.png\" width=\"1100\" style=\"margin:auto\"/>"
   ]
  },
  {
   "cell_type": "markdown",
   "metadata": {
    "slideshow": {
     "slide_type": "slide"
    }
   },
   "source": [
    "## 1. Queue"
   ]
  },
  {
   "cell_type": "markdown",
   "metadata": {
    "slideshow": {
     "slide_type": "subslide"
    }
   },
   "source": [
    "<img src=\"queue_1.png\" width=\"1000\" style=\"margin:auto\"/>"
   ]
  },
  {
   "cell_type": "markdown",
   "metadata": {
    "slideshow": {
     "slide_type": "subslide"
    }
   },
   "source": [
    "<img src=\"queue_2.png\" width=\"1000\" style=\"margin:auto\"/>"
   ]
  },
  {
   "cell_type": "markdown",
   "metadata": {
    "slideshow": {
     "slide_type": "subslide"
    }
   },
   "source": [
    "## Queue Methods\n",
    "\n",
    "### 1. enqueue\n",
    "### 2. dequeue"
   ]
  },
  {
   "cell_type": "markdown",
   "metadata": {
    "slideshow": {
     "slide_type": "slide"
    }
   },
   "source": [
    "## 2. Module collections "
   ]
  },
  {
   "cell_type": "markdown",
   "metadata": {
    "slideshow": {
     "slide_type": "subslide"
    }
   },
   "source": [
    "<img src=\"collections.png\" width=\"1000\" style=\"margin:auto\"/>"
   ]
  },
  {
   "cell_type": "code",
   "execution_count": 18,
   "metadata": {
    "slideshow": {
     "slide_type": "subslide"
    }
   },
   "outputs": [
    {
     "name": "stdout",
     "output_type": "stream",
     "text": [
      "23\n"
     ]
    }
   ],
   "source": [
    "from collections import namedtuple\n",
    "\n",
    "User = namedtuple('User', 'name, age')\n",
    "user_1 = User('Aren', 23)\n",
    "user_2 = User('Vardan', 18)\n",
    "user_3 = User('Armen', 21)\n",
    "\n",
    "\n",
    "def by_age(user):\n",
    "    return user.name\n",
    "\n",
    "users = [user_1, user_2, user_3]\n",
    "\n",
    "\n",
    "print(sorted(users, key=by_age))"
   ]
  },
  {
   "cell_type": "code",
   "execution_count": 20,
   "metadata": {
    "slideshow": {
     "slide_type": "subslide"
    }
   },
   "outputs": [],
   "source": [
    "from collections import Counter\n",
    "\n",
    "a = [\"user\", 1, 1, 1, 2, 3, 3, 4, 3, 3, 4]\n",
    "c = Counter(a)\n",
    "print(c)"
   ]
  },
  {
   "cell_type": "code",
   "execution_count": 26,
   "metadata": {
    "slideshow": {
     "slide_type": "subslide"
    }
   },
   "outputs": [],
   "source": [
    "from collections import OrderedDict\n",
    "\n",
    "od = OrderedDict()\n",
    "od[1] = 'e'\n",
    "od[2] = 'd'\n",
    "od[3] = 'u'\n",
    "od[4] = 'r'\n",
    "od[5] = 'e'\n",
    "od[6] = 'k'\n",
    "od[7] = 'a'\n",
    "print(od)"
   ]
  },
  {
   "cell_type": "markdown",
   "metadata": {
    "slideshow": {
     "slide_type": "slide"
    }
   },
   "source": [
    "## 3. Timsort"
   ]
  },
  {
   "cell_type": "code",
   "execution_count": 29,
   "metadata": {
    "slideshow": {
     "slide_type": "subslide"
    }
   },
   "outputs": [],
   "source": [
    "# # Python3 program to perform basic timSort \n",
    "# MIN_MERGE = 32\n",
    "  \n",
    "# def calcMinRun(n):\n",
    "#     r = 0\n",
    "#     while n >= MIN_MERGE: \n",
    "#         r |= n & 1\n",
    "#         n >>= 1\n",
    "#     return n + r \n",
    "  \n",
    "# def insertionSort(arr, left, right): \n",
    "#     for i in range(left + 1, right + 1): \n",
    "#         j = i \n",
    "#         while j > left and arr[j] < arr[j - 1]: \n",
    "#             arr[j], arr[j - 1] = arr[j - 1], arr[j] \n",
    "#             j -= 1\n",
    "  \n",
    "# def merge(arr, l, m, r): \n",
    "#     len1, len2 = m - l + 1, r - m \n",
    "#     left, right = [], [] \n",
    "#     for i in range(0, len1): \n",
    "#         left.append(arr[l + i]) \n",
    "#     for i in range(0, len2): \n",
    "#         right.append(arr[m + 1 + i]) \n",
    "  \n",
    "#     i, j, k = 0, 0, l \n",
    "    \n",
    "#     while i < len1 and j < len2: \n",
    "#         if left[i] <= right[j]: \n",
    "#             arr[k] = left[i] \n",
    "#             i += 1\n",
    "  \n",
    "#         else: \n",
    "#             arr[k] = right[j] \n",
    "#             j += 1\n",
    "  \n",
    "#         k += 1\n",
    "    \n",
    "#     while i < len1: \n",
    "#         arr[k] = left[i] \n",
    "#         k += 1\n",
    "#         i += 1\n",
    "        \n",
    "#     while j < len2: \n",
    "#         arr[k] = right[j] \n",
    "#         k += 1\n",
    "#         j += 1\n",
    "        \n",
    "# def timSort(arr): \n",
    "#     n = len(arr) \n",
    "#     minRun = calcMinRun(n) \n",
    "    \n",
    "#     for start in range(0, n, minRun): \n",
    "#         end = min(start + minRun - 1, n - 1) \n",
    "#         insertionSort(arr, start, end) \n",
    "        \n",
    "#     size = minRun \n",
    "#     while size < n: \n",
    "#         for left in range(0, n, 2 * size): \n",
    "  \n",
    "#             # Find ending point of left sub array \n",
    "#             # mid+1 is starting point of right sub array \n",
    "#             mid = min(n - 1, left + size - 1) \n",
    "#             right = min((left + 2 * size - 1), (n - 1)) \n",
    "  \n",
    "#             # Merge sub array arr[left.....mid] & \n",
    "#             # arr[mid+1....right] \n",
    "#             merge(arr, left, mid, right) \n",
    "  \n",
    "#         size = 2 * size \n",
    "    \n",
    "\n",
    "    \n",
    "# lst = [1, 5, 9, 7, 3, 7, 4]\n",
    "# timSort(lst)\n",
    "# print(lst)."
   ]
  },
  {
   "cell_type": "markdown",
   "metadata": {
    "slideshow": {
     "slide_type": "subslide"
    }
   },
   "source": [
    "<img src=\"timsort.svg\" width=\"800\" style=\"margin:auto\"/>"
   ]
  },
  {
   "cell_type": "markdown",
   "metadata": {
    "slideshow": {
     "slide_type": "slide"
    }
   },
   "source": [
    "# Homework №8\n",
    "\n",
    "```\n",
    "    1.  Կարդալ users.txt file-ը, Insertion Sort-ի միջոցով սորտավորել \n",
    "    column-ները և գրել նոր file֊ում։\n",
    "        \n",
    "    2.  Կարդալ users.txt file-ը, Binary Insertion Sort-ի միջոցով \n",
    "    սորտավորել row-ները \n",
    "        \n",
    "        2.1 ըստ age-ի։\n",
    "        \n",
    "        2.2 ըստ function-ի parameter-ով ստացած column-ի։\n",
    "```\n",
    "\n",
    "### Research\n",
    "```\n",
    "    1.   Գտնել Binary Insertion Sort-ի complexity-ն վատագույն, միջին և\n",
    "    լավագույն case-երում։\n",
    "```"
   ]
  }
 ],
 "metadata": {
  "celltoolbar": "Slideshow",
  "kernelspec": {
   "display_name": "Python 3",
   "language": "python",
   "name": "python3"
  },
  "language_info": {
   "codemirror_mode": {
    "name": "ipython",
    "version": 3
   },
   "file_extension": ".py",
   "mimetype": "text/x-python",
   "name": "python",
   "nbconvert_exporter": "python",
   "pygments_lexer": "ipython3",
   "version": "3.9.0"
  }
 },
 "nbformat": 4,
 "nbformat_minor": 4
}

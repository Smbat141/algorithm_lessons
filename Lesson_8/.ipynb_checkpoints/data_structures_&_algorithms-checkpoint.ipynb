{
 "cells": [
  {
   "cell_type": "markdown",
   "metadata": {
    "slideshow": {
     "slide_type": "slide"
    }
   },
   "source": [
    "## Data Structures & Algorithms №7  \n",
    "#### Sort Algorithms Part 4\n",
    "<br/>\n",
    "<img src=\"image_1.jpg\" width=\"1000\" style=\"margin:auto\"/>"
   ]
  },
  {
   "cell_type": "markdown",
   "metadata": {
    "slideshow": {
     "slide_type": "slide"
    }
   },
   "source": [
    "## 1. Insertion Sort"
   ]
  },
  {
   "cell_type": "markdown",
   "metadata": {
    "slideshow": {
     "slide_type": "subslide"
    }
   },
   "source": [
    "<img src=\"insertion-sort_1.png\" width=\"800\" style=\"margin:auto\"/>"
   ]
  },
  {
   "cell_type": "markdown",
   "metadata": {
    "slideshow": {
     "slide_type": "subslide"
    }
   },
   "source": [
    "<img src=\"insertion-sort_2.png\" width=\"800\" style=\"margin:auto\"/>"
   ]
  },
  {
   "cell_type": "code",
   "execution_count": null,
   "metadata": {
    "slideshow": {
     "slide_type": "subslide"
    }
   },
   "outputs": [],
   "source": [
    "# Write simple stack with students"
   ]
  },
  {
   "cell_type": "code",
   "execution_count": 5,
   "metadata": {
    "slideshow": {
     "slide_type": "subslide"
    }
   },
   "outputs": [],
   "source": [
    "# def insertionSort(arr):\n",
    "#      for i in range(1, len(arr)): \n",
    "#         key = arr[i] \n",
    "#         j = i\n",
    "        \n",
    "#         while j > 0 and key < arr[j-1] : \n",
    "#                 arr[j] = arr[j-1] \n",
    "#                 j -= 1\n",
    "#         arr[j] = key\n",
    "            \n",
    "# arr = [12, 13, 1, 111, 5, 6, 25]\n",
    "# insertionSort(arr)\n",
    "# print(arr)"
   ]
  },
  {
   "cell_type": "markdown",
   "metadata": {
    "slideshow": {
     "slide_type": "slide"
    }
   },
   "source": [
    "## 2. Binary Insertion Sort"
   ]
  },
  {
   "cell_type": "markdown",
   "metadata": {
    "slideshow": {
     "slide_type": "subslide"
    }
   },
   "source": [
    "<img src=\"for_binary_insertion_sort.png\" width=\"800\" style=\"margin:auto\"/>"
   ]
  },
  {
   "cell_type": "code",
   "execution_count": null,
   "metadata": {},
   "outputs": [],
   "source": [
    "def test_insertion_binary_sort_success():\n",
    "    integers_list = [1, 4, 3, 2, 5]\n",
    "    expected_result = [1, 2, 3, 4, 5]\n",
    "    result = insertion_binary_sort(integers_list)\n",
    "    message = \"Test pass OK\"\n",
    "\n",
    "    if result != expected_result:\n",
    "        message = f\"Test fail {expected_result} != {result}\"\n",
    "\n",
    "    print(message)\n",
    "\n",
    "\n",
    "test_insertion_binary_sort_success()"
   ]
  },
  {
   "cell_type": "code",
   "execution_count": 10,
   "metadata": {},
   "outputs": [],
   "source": [
    "def binary_search(arr, val, start, end):\n",
    "    if start == end:\n",
    "        if arr[start] > val:\n",
    "            return start\n",
    "        else:\n",
    "            return start + 1\n",
    "\n",
    "    if start > end:\n",
    "        return start\n",
    "\n",
    "    mid = (start + end) // 2\n",
    "    if arr[mid] < val:\n",
    "        return binary_search(arr, val, mid + 1, end)\n",
    "    elif arr[mid] > val:\n",
    "        return binary_search(arr, val, start, mid - 1)\n",
    "    else:\n",
    "        return mid\n",
    "\n",
    "\n",
    "def insertion_binary_sort(arr):\n",
    "    for i in range(1, len(arr)):\n",
    "        val = arr[i]\n",
    "        j = binary_search(arr, val, 0, i - 1)  # Use binary search for already sorted array\n",
    "        arr = arr[:j] + [val] + arr[j:i] + arr[i + 1:]\n",
    "        print(arr)\n",
    "    return arr\n",
    "\n",
    "integers_list = [1, 4, 3, 2, 5]\n",
    "result = insertion_binary_sort(integers_list)"
   ]
  },
  {
   "cell_type": "markdown",
   "metadata": {
    "slideshow": {
     "slide_type": "slide"
    }
   },
   "source": [
    "# Homework №5\n",
    "\n",
    "```\n",
    "    1.  Ինչ ընդունված կանոնի պետք է հետեվեք անվերջ ռեկուրսիայից\n",
    "    խուսափելու համար։\n",
    "\n",
    "    2.  Ինչ error եք ստանում անվերջ ռեկուրսիայի դեպքում։\n",
    "\n",
    "    3․  Ինչ կտպի հետեվյալ կոդը։\n",
    "        m = Stack()\n",
    "        m.push('x')\n",
    "        m.push('y')\n",
    "        m.pop()\n",
    "        m.push('z')\n",
    "        print(m.peek())\n",
    "    \n",
    "    4.  Ստուգեք բալանսավորված են արդյոք տրված string-ում փակագծերը։\n",
    "        \n",
    "        Օրինակ       \n",
    "            Input : {[]{()}}\n",
    "            Output : Balanced\n",
    "    \n",
    "            Input : [{}{}(]\n",
    "            Output : Unbalanced  \n",
    "\n",
    "    5.  Սորտավորեք տրված list-ը ըստ լսումների քանակի selection sort-ի\n",
    "    միջոցով։\n",
    "        \n",
    "        [\n",
    "            {'name' : 'Aram Asatryan', 'count' : 5000},\n",
    "            {'name' : 'Oxxxymiron', 'count' : 2},\n",
    "            {'name' : 'Guf', 'count' : 300},\n",
    "            {'name' : 'Snoop dog', 'count' : 153},\n",
    "            {'name' : '50 Cent', 'count' : 50},\n",
    "            {'name' : 'Pink Floyd', 'count' : 2000},\n",
    "            {'name' : 'Misho', 'count' : 6000},\n",
    "            {'name' : 'Gunther', 'count' : 69000000}\n",
    "        ]\n",
    "```\n",
    "\n",
    "### Research\n",
    "```\n",
    "\t1.  Ինչքան է python-ում մաքսիմում ռեկուրսիայի քանակը և ինչպես \n",
    "    կարող ենք փոխել այն։\n",
    "```"
   ]
  }
 ],
 "metadata": {
  "celltoolbar": "Slideshow",
  "kernelspec": {
   "display_name": "Python 3",
   "language": "python",
   "name": "python3"
  },
  "language_info": {
   "codemirror_mode": {
    "name": "ipython",
    "version": 3
   },
   "file_extension": ".py",
   "mimetype": "text/x-python",
   "name": "python",
   "nbconvert_exporter": "python",
   "pygments_lexer": "ipython3",
   "version": "3.9.0"
  }
 },
 "nbformat": 4,
 "nbformat_minor": 4
}
